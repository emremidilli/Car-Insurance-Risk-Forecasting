{
 "cells": [
  {
   "cell_type": "markdown",
   "id": "232febed-b97a-4214-a971-e24d32a328ae",
   "metadata": {},
   "source": [
    "# Libraries"
   ]
  },
  {
   "cell_type": "code",
   "execution_count": 3,
   "id": "49144580-f9b9-4c09-b1a4-1388ea5933b5",
   "metadata": {},
   "outputs": [],
   "source": [
    "import numpy as np\n",
    "\n",
    "import os\n",
    "\n",
    "import pandas as pd\n",
    "\n",
    "# Add the ../src directory to the Python path\n",
    "import sys\n",
    "sys.path.append(os.path.abspath(os.path.join('..')))\n",
    "\n",
    "from src import (\n",
    "    adjust_column_names)"
   ]
  },
  {
   "cell_type": "markdown",
   "id": "b50a4b02-20e7-48c9-a7bc-68e700a352f5",
   "metadata": {
    "jp-MarkdownHeadingCollapsed": true
   },
   "source": [
    "# Data Import"
   ]
  },
  {
   "cell_type": "code",
   "execution_count": 5,
   "id": "a65e5b12-2f15-48c9-af8f-b7c994b90afc",
   "metadata": {},
   "outputs": [],
   "source": [
    "source_data = pd.read_csv(\n",
    "    os.path.join('..', 'data', 'insurance_data_sample.csv'),\n",
    "    sep=',',\n",
    "    encoding='utf-8',\n",
    "    parse_dates=['Date'],\n",
    "    dtype={'Phone': str})"
   ]
  },
  {
   "cell_type": "markdown",
   "id": "8a1ae8fa-a7d7-444b-9668-1d46aaa36642",
   "metadata": {},
   "source": [
    "# Preprocess"
   ]
  },
  {
   "cell_type": "code",
   "execution_count": 11,
   "id": "0fc0c9ef-aa7d-4511-824a-3b9f4f3b919b",
   "metadata": {},
   "outputs": [],
   "source": [
    "# prepare dataset\n",
    "prep_data = source_data.copy()\n",
    "prep_data = adjust_column_names(prep_data)\n",
    "\n",
    "prep_data = prep_data\\\n",
    "    .groupby(['date', 'city'])\\\n",
    "    .agg(\n",
    "        sum_of_claims=pd.NamedAgg('claim_amount', 'sum'))\\\n",
    "    .reset_index()\n",
    "\n",
    "# Calculate timestamp features\n",
    "prep_data.loc[:, 'day_of_week'] = prep_data.loc[:, 'date'].dt.dayofweek.astype(str)\n",
    "prep_data.loc[:, 'day'] = prep_data.loc[:, 'date'].dt.day.astype(str)\n",
    "prep_data.loc[:, 'month'] = prep_data.loc[:, 'date'].dt.month.astype(str)\n",
    "prep_data.loc[:, 'year'] = prep_data.loc[:, 'date'].dt.year.astype(str)\n",
    "prep_data.loc[:, 'yyyymm'] = prep_data.loc[:, 'date'].dt.strftime('%Y%m')\n",
    "\n",
    "# Add time index\n",
    "prep_data.loc[:, 'temp_1'] = (prep_data.loc[:, 'date'] - prep_data.loc[:, 'date'].min())\n",
    "prep_data.loc[:, 'time_idx'] = (prep_data.loc[:, 'temp_1'].dt.days) + 1\n",
    "prep_data.drop(['temp_1'], axis=1, inplace=True)"
   ]
  }
 ],
 "metadata": {
  "kernelspec": {
   "display_name": "Python 3 (ipykernel)",
   "language": "python",
   "name": "python3"
  },
  "language_info": {
   "codemirror_mode": {
    "name": "ipython",
    "version": 3
   },
   "file_extension": ".py",
   "mimetype": "text/x-python",
   "name": "python",
   "nbconvert_exporter": "python",
   "pygments_lexer": "ipython3",
   "version": "3.10.14"
  }
 },
 "nbformat": 4,
 "nbformat_minor": 5
}
