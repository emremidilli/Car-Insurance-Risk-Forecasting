{
 "cells": [
  {
   "cell_type": "markdown",
   "id": "22de9d38-53c4-4a69-b2e5-d95f456bc612",
   "metadata": {},
   "source": [
    "# Motivation "
   ]
  },
  {
   "cell_type": "markdown",
   "id": "6f21bbc6-babc-4c31-868a-abae12758ccb",
   "metadata": {},
   "source": [
    "Purpose of this training task is to predict next 3 days of claims per each city."
   ]
  },
  {
   "cell_type": "markdown",
   "id": "1f082b9e-6a64-4715-944c-f43fac431bcf",
   "metadata": {
    "jp-MarkdownHeadingCollapsed": true
   },
   "source": [
    "# Libraries"
   ]
  },
  {
   "cell_type": "code",
   "execution_count": 1,
   "id": "be000834-6e47-43a3-aff1-d5ff6267b66a",
   "metadata": {},
   "outputs": [],
   "source": [
    "from itertools import product\n",
    "\n",
    "import lightning.pytorch as pl\n",
    "from lightning.pytorch.tuner import Tuner\n",
    "from lightning.pytorch.loggers import TensorBoardLogger\n",
    "\n",
    "import os\n",
    "\n",
    "import pandas as pd\n",
    "\n",
    "from pytorch_forecasting import Baseline, TemporalFusionTransformer, TimeSeriesDataSet\n",
    "from lightning.pytorch.callbacks import EarlyStopping, LearningRateMonitor\n",
    "from pytorch_forecasting.data import TorchNormalizer\n",
    "from pytorch_forecasting.metrics import MAE, QuantileLoss\n",
    "\n",
    "from sklearn.model_selection import train_test_split\n",
    "\n",
    "# Add the ../src directory to the Python path\n",
    "import sys\n",
    "sys.path.append(os.path.abspath(os.path.join('..')))\n",
    "\n",
    "from src import (\n",
    "    adjust_column_names)"
   ]
  },
  {
   "cell_type": "markdown",
   "id": "c8eaad15-36bc-4ac3-9ac0-fef7faff339a",
   "metadata": {
    "jp-MarkdownHeadingCollapsed": true
   },
   "source": [
    "# Data Import"
   ]
  },
  {
   "cell_type": "code",
   "execution_count": 2,
   "id": "f13062df-74be-4fec-b849-63f85e192334",
   "metadata": {},
   "outputs": [],
   "source": [
    "source_data = pd.read_csv(\n",
    "    os.path.join('..', 'data', 'insurance_data_sample.csv'),\n",
    "    sep=',',\n",
    "    encoding='utf-8',\n",
    "    parse_dates=['Date'],\n",
    "    dtype={'Phone': str})"
   ]
  },
  {
   "cell_type": "markdown",
   "id": "b262b272-5467-438c-850b-80c32000ddb9",
   "metadata": {},
   "source": [
    "# Preprocess"
   ]
  },
  {
   "cell_type": "code",
   "execution_count": 3,
   "id": "fff7092f-ef72-4ac5-9d29-54f86522593f",
   "metadata": {},
   "outputs": [],
   "source": [
    "prep_data = source_data.copy()"
   ]
  },
  {
   "cell_type": "markdown",
   "id": "d14d34ae-2da9-4e4e-b47d-58434fb05c13",
   "metadata": {
    "jp-MarkdownHeadingCollapsed": true
   },
   "source": [
    "## Adjust column names"
   ]
  },
  {
   "cell_type": "code",
   "execution_count": 4,
   "id": "52d05180-b7c4-4c8c-8994-2fb1c7fb7b5b",
   "metadata": {},
   "outputs": [],
   "source": [
    "prep_data = adjust_column_names(prep_data)"
   ]
  },
  {
   "cell_type": "markdown",
   "id": "64e7dc31-2c7e-415a-a665-0bc1209931c1",
   "metadata": {},
   "source": [
    "## Calculate monthly claims"
   ]
  },
  {
   "cell_type": "code",
   "execution_count": 5,
   "id": "95269930-519f-4c57-b55e-5835fbc45155",
   "metadata": {},
   "outputs": [],
   "source": [
    "prep_data = prep_data\\\n",
    "    .groupby(['date', 'city'])\\\n",
    "    .agg(\n",
    "        sum_of_claims=pd.NamedAgg('claim_amount', 'sum'))\\\n",
    "    .reset_index()"
   ]
  },
  {
   "cell_type": "markdown",
   "id": "f9053987-86dd-46d1-84b4-703f90869f23",
   "metadata": {},
   "source": [
    "## Calculate date features"
   ]
  },
  {
   "cell_type": "code",
   "execution_count": 9,
   "id": "75d91750-83e9-447b-8a25-7a467241d81c",
   "metadata": {},
   "outputs": [],
   "source": [
    "prep_data.loc[:, 'day_of_week'] = prep_data.loc[:, 'date'].dt.dayofweek.astype(str)\n",
    "prep_data.loc[:, 'day'] = prep_data.loc[:, 'date'].dt.day.astype(str)\n",
    "prep_data.loc[:, 'month'] = prep_data.loc[:, 'date'].dt.month.astype(str)\n",
    "prep_data.loc[:, 'year'] = prep_data.loc[:, 'date'].dt.year.astype(str)\n",
    "prep_data.loc[:, 'yyyymm'] = prep_data.loc[:, 'date'].dt.strftime('%Y%m')"
   ]
  },
  {
   "cell_type": "markdown",
   "id": "bc805501-4c9f-41c3-b420-a12983c8fcfc",
   "metadata": {},
   "source": [
    "## Add time index"
   ]
  },
  {
   "cell_type": "code",
   "execution_count": null,
   "id": "3c453550-ddb5-4597-a4e5-cfdd1a3480e2",
   "metadata": {},
   "outputs": [],
   "source": [
    "prep_data.loc[:, 'yyyymm_dt'] = pd.to_datetime(prep_data.loc[:, 'yyyymm'], format='%Y%m').dt.to_period('M').astype(int) \n",
    "prep_data.loc[:, 'time_idx'] = prep_data.loc[:, 'yyyymm_dt'] - prep_data.loc[:, 'yyyymm_dt'].min()\n",
    "\n",
    "prep_data.drop(['yyyymm_dt'], axis=1, inplace=True)"
   ]
  },
  {
   "cell_type": "markdown",
   "id": "84f73fee-2807-4555-8bb5-cd03f0d03394",
   "metadata": {},
   "source": [
    "# Analysis"
   ]
  },
  {
   "cell_type": "markdown",
   "id": "feb55620-9808-481c-9a89-5efbfbeb2997",
   "metadata": {
    "jp-MarkdownHeadingCollapsed": true
   },
   "source": [
    "## Train-Test split"
   ]
  },
  {
   "cell_type": "code",
   "execution_count": null,
   "id": "17433cde-75d4-405f-bec1-6c09d2afb236",
   "metadata": {},
   "outputs": [],
   "source": [
    "max_prediction_length = 2\n",
    "max_encoder_length = 2\n",
    "training_cutoff = prep_data[\"time_idx\"].max() - max_prediction_length\n",
    "\n",
    "all_idx = prep_data.time_idx.unique()\n",
    "train_idx, test_idx = train_test_split(all_idx, test_size=0.30, shuffle=False)\n",
    "train_idx, val_idx = train_test_split(train_idx, test_size=0.15, shuffle=False)\n",
    "\n",
    "train_data = prep_data.query('time_idx in @train_idx')\n",
    "val_data = prep_data.query('time_idx in @val_idx')\n",
    "test_data = prep_data.query('time_idx in @test_idx')\n",
    "\n",
    "training = TimeSeriesDataSet(\n",
    "    train_data,\n",
    "    time_idx='time_idx',\n",
    "    target='sum_of_claims',\n",
    "    group_ids=['city'],\n",
    "    min_encoder_length=max_encoder_length // 2,\n",
    "    max_encoder_length=max_encoder_length,\n",
    "    min_prediction_length=1,\n",
    "    max_prediction_length=max_prediction_length,\n",
    "    static_categoricals=['city'],\n",
    "    static_reals=[],\n",
    "    time_varying_known_categoricals=['year', 'month'],\n",
    "    time_varying_known_reals=['time_idx'],\n",
    "    time_varying_unknown_categoricals=[],\n",
    "    time_varying_unknown_reals=['sum_of_claims'],\n",
    "    target_normalizer=TorchNormalizer(method='standard'),\n",
    "    add_relative_time_idx=True,\n",
    "    add_target_scales=True,\n",
    "    add_encoder_length=True,\n",
    "    allow_missing_timesteps=True)\n",
    "\n",
    "validation = TimeSeriesDataSet.from_dataset(training, val_data, predict=True, stop_randomization=True)\n",
    "\n",
    "test = TimeSeriesDataSet.from_dataset(training, test_data, predict=True, stop_randomization=True)"
   ]
  },
  {
   "cell_type": "markdown",
   "id": "0a4654a1-5a7d-4b5a-90e9-fb42a8cfd38e",
   "metadata": {},
   "source": [
    "## Create data loaders"
   ]
  },
  {
   "cell_type": "code",
   "execution_count": null,
   "id": "4f14993a-a2b9-4864-b287-e128416dc78b",
   "metadata": {},
   "outputs": [],
   "source": [
    "batch_size = 16\n",
    "train_dataloader = training.to_dataloader(train=True, batch_size=batch_size, num_workers=4)\n",
    "val_dataloader = validation.to_dataloader(train=False, batch_size=batch_size, num_workers=4)\n",
    "test_dataloader = test.to_dataloader(train=False, batch_size=batch_size, num_workers=4)"
   ]
  },
  {
   "cell_type": "code",
   "execution_count": null,
   "id": "e6ea8cfb-f984-4670-8e6f-55655f77d399",
   "metadata": {},
   "outputs": [],
   "source": [
    "i = 0\n",
    "for batch in test_dataloader:\n",
    "    # Access input data and targets from the batch\n",
    "    x, y = batch\n",
    "\n",
    "    if i == 3:\n",
    "        break\n",
    "\n",
    "    i = i + 1\n",
    "\n",
    "i"
   ]
  },
  {
   "cell_type": "code",
   "execution_count": null,
   "id": "4a7d87b0-e0c1-4c59-86c1-d6862d21f3c8",
   "metadata": {},
   "outputs": [],
   "source": [
    "x.keys()"
   ]
  },
  {
   "cell_type": "code",
   "execution_count": null,
   "id": "2affe46e-8cab-438b-a411-2adc6c9dbe39",
   "metadata": {},
   "outputs": [],
   "source": [
    "y[0]"
   ]
  },
  {
   "cell_type": "code",
   "execution_count": null,
   "id": "5b6c7b06-460f-4fea-94ce-88cf065d8400",
   "metadata": {},
   "outputs": [],
   "source": [
    "x['encoder_cat'].shape"
   ]
  },
  {
   "cell_type": "markdown",
   "id": "75de8386-4437-4bfb-b4fe-9f65e5482931",
   "metadata": {
    "jp-MarkdownHeadingCollapsed": true
   },
   "source": [
    "## Baseline model"
   ]
  },
  {
   "cell_type": "code",
   "execution_count": null,
   "id": "daa3f83d-d34d-42b2-92a0-e28d30f73df8",
   "metadata": {},
   "outputs": [],
   "source": [
    "baseline_predictions = Baseline().predict(val_dataloader, return_y=True)\n",
    "mae_baseline = MAE()(baseline_predictions.output, baseline_predictions.y).item()\n",
    "\n",
    "print(f'Mean absolute error of baseline model: {mae_baseline}')"
   ]
  },
  {
   "cell_type": "code",
   "execution_count": null,
   "id": "2892b2e9-b849-48de-b01a-facdced943f2",
   "metadata": {},
   "outputs": [],
   "source": [
    "baseline_predictions.output"
   ]
  },
  {
   "cell_type": "code",
   "execution_count": null,
   "id": "52cb8deb-cfa5-415d-900b-59c15a2c466a",
   "metadata": {},
   "outputs": [],
   "source": [
    "baseline_predictions.y"
   ]
  },
  {
   "cell_type": "markdown",
   "id": "2587a242-6a5b-4331-8d16-6f7a94f8c55c",
   "metadata": {
    "jp-MarkdownHeadingCollapsed": true
   },
   "source": [
    "## Temporal fusion transformer model"
   ]
  },
  {
   "cell_type": "code",
   "execution_count": null,
   "id": "ab5e1d12-fa8d-4eb4-a570-e5a53c063dc2",
   "metadata": {},
   "outputs": [],
   "source": [
    "HIDDEN_SIZE=8\n",
    "ATTENTION_HEAD_SIZE=1\n",
    "DROPOUT_RATE=0.1\n",
    "HIDDEN_CONTINOUS_SIZE=8"
   ]
  },
  {
   "cell_type": "code",
   "execution_count": null,
   "id": "53787daa-337d-49f6-9fa6-d99b1d3f6953",
   "metadata": {},
   "outputs": [],
   "source": [
    "# configure network and trainer\n",
    "pl.seed_everything(42)\n",
    "trainer = pl.Trainer(\n",
    "    accelerator='gpu',\n",
    "    gradient_clip_val=0.1)\n",
    "\n",
    "tft = TemporalFusionTransformer.from_dataset(\n",
    "    training,\n",
    "    learning_rate=0.03,\n",
    "    hidden_size=HIDDEN_SIZE, \n",
    "    attention_head_size=ATTENTION_HEAD_SIZE,\n",
    "    dropout=DROPOUT_RATE,\n",
    "    hidden_continuous_size=HIDDEN_CONTINOUS_SIZE,\n",
    "    loss=QuantileLoss(),\n",
    "    optimizer='Ranger')\n",
    "print(f\"Number of parameters in network: {tft.size()/1e3:.1f}k\")"
   ]
  },
  {
   "cell_type": "markdown",
   "id": "0ca7695b-ecd2-4964-82fb-41824924fdbe",
   "metadata": {
    "jp-MarkdownHeadingCollapsed": true
   },
   "source": [
    "### Hyperparameter tuning"
   ]
  },
  {
   "cell_type": "code",
   "execution_count": null,
   "id": "dfdd8f10-9d29-4f88-8786-b588e85cd17e",
   "metadata": {},
   "outputs": [],
   "source": [
    "res = Tuner(trainer).lr_find(\n",
    "    tft,\n",
    "    train_dataloaders=train_dataloader,\n",
    "    val_dataloaders=val_dataloader,\n",
    "    max_lr=10.0,\n",
    "    min_lr=1e-6)\n",
    "\n",
    "print(f\"suggested learning rate: {res.suggestion()}\")\n",
    "fig = res.plot(show=True, suggest=True)\n",
    "fig.show()"
   ]
  },
  {
   "cell_type": "markdown",
   "id": "263a78b1-d900-40dd-b996-7c2b945ae55d",
   "metadata": {},
   "source": [
    "### Train the model"
   ]
  },
  {
   "cell_type": "code",
   "execution_count": null,
   "id": "92e32c27-2ab7-4b19-a46d-323b4c683547",
   "metadata": {},
   "outputs": [],
   "source": [
    "# configure network and trainer\n",
    "early_stop_callback = EarlyStopping(monitor='val_loss', min_delta=1e-4, patience=10, verbose=False, mode='min')\n",
    "lr_logger = LearningRateMonitor()  # log the learning rate\n",
    "logger = TensorBoardLogger(\"lightning_logs\")\n",
    "\n",
    "trainer = pl.Trainer(\n",
    "    max_epochs=100,\n",
    "    accelerator='gpu',\n",
    "    enable_model_summary=True,\n",
    "    gradient_clip_val=0.1,\n",
    "    callbacks=[lr_logger, early_stop_callback],\n",
    "    logger=logger)\n",
    "\n",
    "tft = TemporalFusionTransformer.from_dataset(\n",
    "    training,\n",
    "    learning_rate=res.suggestion(),\n",
    "    hidden_size=HIDDEN_SIZE,\n",
    "    attention_head_size=ATTENTION_HEAD_SIZE,\n",
    "    dropout=DROPOUT_RATE,\n",
    "    hidden_continuous_size=HIDDEN_CONTINOUS_SIZE,\n",
    "    loss=QuantileLoss(),\n",
    "    log_interval=10,\n",
    "    optimizer=\"Ranger\",\n",
    "    reduce_on_plateau_patience=4)\n",
    "print(f\"Number of parameters in network: {tft.size()/1e3:.1f}k\")\n",
    "\n",
    "# fit network\n",
    "trainer.fit(\n",
    "    tft,\n",
    "    train_dataloaders=train_dataloader,\n",
    "    val_dataloaders=val_dataloader,\n",
    ")"
   ]
  },
  {
   "cell_type": "code",
   "execution_count": null,
   "id": "6597d08f-0b0f-44cf-8550-b8a395ff5eda",
   "metadata": {},
   "outputs": [],
   "source": [
    "# calcualte mean absolute error on validation set\n",
    "predictions = tft.predict(val_dataloader, return_y=True, trainer_kwargs=dict(accelerator='gpu'))\n",
    "mae_tft = MAE()(predictions.output, predictions.y).item()\n",
    "\n",
    "print(f'mean absolute error of tft model: {mae_tft}')"
   ]
  },
  {
   "cell_type": "code",
   "execution_count": null,
   "id": "ebbe79e2-8ae0-45ef-8176-064b7aada412",
   "metadata": {},
   "outputs": [],
   "source": [
    "predictions"
   ]
  }
 ],
 "metadata": {
  "kernelspec": {
   "display_name": "Python 3 (ipykernel)",
   "language": "python",
   "name": "python3"
  },
  "language_info": {
   "codemirror_mode": {
    "name": "ipython",
    "version": 3
   },
   "file_extension": ".py",
   "mimetype": "text/x-python",
   "name": "python",
   "nbconvert_exporter": "python",
   "pygments_lexer": "ipython3",
   "version": "3.10.14"
  }
 },
 "nbformat": 4,
 "nbformat_minor": 5
}
