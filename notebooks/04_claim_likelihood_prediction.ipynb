{
 "cells": [
  {
   "cell_type": "markdown",
   "id": "c2cea856-5c7c-4d2a-a863-17019398ad90",
   "metadata": {},
   "source": [
    "# Motivation"
   ]
  },
  {
   "cell_type": "markdown",
   "id": "e5ad4563-c1c2-4e56-a110-ebf914c89102",
   "metadata": {},
   "source": [
    "Purpose of this project is to predict the likelihood of making claim. Tensorflow is used to build a machine learning model."
   ]
  },
  {
   "cell_type": "markdown",
   "id": "32656eec-192c-432b-b82a-d7e6dea44bcc",
   "metadata": {
    "jp-MarkdownHeadingCollapsed": true
   },
   "source": [
    "# Libraries"
   ]
  },
  {
   "cell_type": "code",
   "execution_count": 102,
   "id": "72759208-7258-45d3-8fa1-56b2ff0de6e8",
   "metadata": {},
   "outputs": [],
   "source": [
    "from matplotlib import pyplot as plt\n",
    "\n",
    "import numpy as np\n",
    "\n",
    "import os\n",
    "\n",
    "import pandas as pd\n",
    "\n",
    "import seaborn as sns\n",
    "\n",
    "from sklearn.metrics import confusion_matrix\n",
    "from sklearn.model_selection import train_test_split\n",
    "from sklearn.preprocessing import MinMaxScaler\n",
    "\n",
    "import tensorflow as tf\n",
    "from tensorflow.keras.models import Sequential\n",
    "from tensorflow.keras.layers import Dense\n",
    "from tensorflow.keras.callbacks import EarlyStopping\n",
    "\n",
    "# Add the ../src directory to the Python path\n",
    "import sys\n",
    "sys.path.append(os.path.abspath(os.path.join('..')))\n",
    "\n",
    "from src import (\n",
    "    adjust_column_names)"
   ]
  },
  {
   "cell_type": "markdown",
   "id": "5b312a1d-943f-4902-8a54-5b0c8b556c97",
   "metadata": {
    "jp-MarkdownHeadingCollapsed": true
   },
   "source": [
    "# Import Data"
   ]
  },
  {
   "cell_type": "code",
   "execution_count": 103,
   "id": "63399018-7296-4b82-b5f4-7feefee458b9",
   "metadata": {},
   "outputs": [],
   "source": [
    "source_data = pd.read_csv(\n",
    "    os.path.join('..', 'data', 'insurance_data_sample.csv'),\n",
    "    sep=',',\n",
    "    encoding='utf-8',\n",
    "    parse_dates=['Date'],\n",
    "    dtype={'Phone': str})"
   ]
  },
  {
   "cell_type": "markdown",
   "id": "32732cc3-609f-40b4-8d58-7b8f02d3d3e6",
   "metadata": {},
   "source": [
    "# Preprocess"
   ]
  },
  {
   "cell_type": "code",
   "execution_count": 104,
   "id": "ad782924-b714-4d56-b9c7-0ca323df8cef",
   "metadata": {},
   "outputs": [],
   "source": [
    "prep_data = source_data.copy()\n",
    "prep_data = adjust_column_names(prep_data)"
   ]
  },
  {
   "cell_type": "markdown",
   "id": "797ddece-9a19-48ac-81f9-b20e76daad10",
   "metadata": {
    "jp-MarkdownHeadingCollapsed": true
   },
   "source": [
    "## Select relevant features"
   ]
  },
  {
   "cell_type": "code",
   "execution_count": 105,
   "id": "e9d195eb-e8ed-4098-a38b-5f82fe444a4a",
   "metadata": {},
   "outputs": [],
   "source": [
    "FEATURES = ['gender', 'annual_income', 'price_usd', 'body_style', 'amount_paid_for_insurance', 'claim_amount', 'city']\n",
    "\n",
    "prep_data = prep_data.loc[:, FEATURES]"
   ]
  },
  {
   "cell_type": "markdown",
   "id": "445dbb99-95ae-4f93-bb40-0ccd2c14f95b",
   "metadata": {
    "jp-MarkdownHeadingCollapsed": true
   },
   "source": [
    "## Remove outliers"
   ]
  },
  {
   "cell_type": "code",
   "execution_count": 106,
   "id": "98935b9e-20f4-4dc6-a2a0-3895e897dd2d",
   "metadata": {},
   "outputs": [],
   "source": [
    "prep_data.query('price_usd >= 8000', inplace=True)"
   ]
  },
  {
   "cell_type": "markdown",
   "id": "ce49ef1b-1548-437f-9c74-99a45c9f6f00",
   "metadata": {},
   "source": [
    "## Convert categorical variables"
   ]
  },
  {
   "cell_type": "code",
   "execution_count": 107,
   "id": "432ef24e-7a79-48c6-a300-4013ad02040a",
   "metadata": {},
   "outputs": [],
   "source": [
    "prep_data = pd.get_dummies(prep_data, columns=['gender', 'city', 'body_style']).astype(int)"
   ]
  },
  {
   "cell_type": "markdown",
   "id": "e4dc9f92-270b-4b70-9b94-43b2f9121d5a",
   "metadata": {},
   "source": [
    "# Analyze"
   ]
  },
  {
   "cell_type": "code",
   "execution_count": 108,
   "id": "d25ea85b",
   "metadata": {},
   "outputs": [],
   "source": [
    "prep_data.loc[:, 'is_claim'] = (prep_data.loc[:, 'claim_amount'] > 0).astype(int)\n",
    "prep_data.drop(['claim_amount'], axis=1, inplace=True)"
   ]
  },
  {
   "cell_type": "markdown",
   "id": "e9cbc471-2ea8-48f3-a6a7-2d7c332db1ea",
   "metadata": {},
   "source": [
    "## Set input and output features"
   ]
  },
  {
   "cell_type": "code",
   "execution_count": 109,
   "id": "b947ac6f-6f03-4f4f-bfea-62a9bdca8944",
   "metadata": {},
   "outputs": [],
   "source": [
    "df_X = prep_data.drop(['is_claim'], axis=1).copy()\n",
    "df_y = prep_data.loc[:, ['is_claim']].copy()"
   ]
  },
  {
   "cell_type": "code",
   "execution_count": 110,
   "id": "c55bbd0a",
   "metadata": {},
   "outputs": [
    {
     "data": {
      "text/plain": [
       "is_claim\n",
       "0    21511\n",
       "1     2389\n",
       "Name: count, dtype: int64"
      ]
     },
     "execution_count": 110,
     "metadata": {},
     "output_type": "execute_result"
    }
   ],
   "source": [
    "df_y.is_claim.value_counts(dropna=False)"
   ]
  },
  {
   "cell_type": "markdown",
   "id": "8f038952-6f8c-43a8-9ff6-53cc4520c19b",
   "metadata": {},
   "source": [
    "## Normalize"
   ]
  },
  {
   "cell_type": "code",
   "execution_count": 111,
   "id": "4e32b552-ab07-42cd-aa04-0fc927737202",
   "metadata": {},
   "outputs": [],
   "source": [
    "scaler_X = MinMaxScaler()\n",
    "X = scaler_X.fit_transform(df_X)\n",
    "\n",
    "y = df_y.to_numpy()"
   ]
  },
  {
   "cell_type": "markdown",
   "id": "b0f6405c-e965-4ba3-9aeb-3890a74aeb66",
   "metadata": {},
   "source": [
    "## Train test split"
   ]
  },
  {
   "cell_type": "code",
   "execution_count": 112,
   "id": "2b9bc802-112f-471c-9760-ce0b5ae067e8",
   "metadata": {},
   "outputs": [],
   "source": [
    "# Assuming X is your feature matrix and y is your target variable\n",
    "X_train, X_test, y_train, y_test = train_test_split(X, y, test_size=0.2, random_state=42)"
   ]
  },
  {
   "cell_type": "markdown",
   "id": "4b56d00a-03b0-4542-be6f-c5c085ddb272",
   "metadata": {},
   "source": [
    "## Train"
   ]
  },
  {
   "cell_type": "code",
   "execution_count": 137,
   "id": "dd7331d2-96e8-4e70-8edc-bfdf76155dad",
   "metadata": {},
   "outputs": [
    {
     "name": "stdout",
     "output_type": "stream",
     "text": [
      "Epoch 1/100\n",
      "120/120 [==============================] - 2s 8ms/step - loss: 0.4101 - accuracy: 0.8523 - val_loss: 0.3112 - val_accuracy: 0.9082\n",
      "Epoch 2/100\n",
      "120/120 [==============================] - 1s 7ms/step - loss: 0.3312 - accuracy: 0.8983 - val_loss: 0.3081 - val_accuracy: 0.9082\n",
      "Epoch 3/100\n",
      "120/120 [==============================] - 1s 7ms/step - loss: 0.3291 - accuracy: 0.8983 - val_loss: 0.3089 - val_accuracy: 0.9082\n",
      "Epoch 4/100\n",
      "120/120 [==============================] - 1s 7ms/step - loss: 0.3290 - accuracy: 0.8983 - val_loss: 0.3072 - val_accuracy: 0.9082\n",
      "Epoch 5/100\n",
      "120/120 [==============================] - 1s 7ms/step - loss: 0.3287 - accuracy: 0.8983 - val_loss: 0.3084 - val_accuracy: 0.9082\n",
      "Epoch 6/100\n",
      "120/120 [==============================] - 1s 7ms/step - loss: 0.3285 - accuracy: 0.8983 - val_loss: 0.3072 - val_accuracy: 0.9082\n",
      "Epoch 7/100\n",
      "120/120 [==============================] - 1s 7ms/step - loss: 0.3283 - accuracy: 0.8983 - val_loss: 0.3076 - val_accuracy: 0.9082\n",
      "Epoch 8/100\n",
      "120/120 [==============================] - 1s 7ms/step - loss: 0.3282 - accuracy: 0.8983 - val_loss: 0.3073 - val_accuracy: 0.9082\n",
      "Epoch 9/100\n",
      "120/120 [==============================] - 1s 7ms/step - loss: 0.3281 - accuracy: 0.8983 - val_loss: 0.3070 - val_accuracy: 0.9082\n",
      "Epoch 10/100\n",
      "120/120 [==============================] - 1s 7ms/step - loss: 0.3280 - accuracy: 0.8983 - val_loss: 0.3076 - val_accuracy: 0.9082\n",
      "Epoch 11/100\n",
      "120/120 [==============================] - 1s 8ms/step - loss: 0.3279 - accuracy: 0.8983 - val_loss: 0.3078 - val_accuracy: 0.9082\n",
      "Epoch 12/100\n",
      "120/120 [==============================] - 1s 7ms/step - loss: 0.3279 - accuracy: 0.8983 - val_loss: 0.3079 - val_accuracy: 0.9082\n",
      "Epoch 13/100\n",
      "120/120 [==============================] - 1s 8ms/step - loss: 0.3278 - accuracy: 0.8983 - val_loss: 0.3078 - val_accuracy: 0.9082\n",
      "Epoch 14/100\n",
      "120/120 [==============================] - 1s 7ms/step - loss: 0.3279 - accuracy: 0.8983 - val_loss: 0.3073 - val_accuracy: 0.9082\n",
      "Epoch 15/100\n",
      "120/120 [==============================] - 1s 7ms/step - loss: 0.3277 - accuracy: 0.8983 - val_loss: 0.3083 - val_accuracy: 0.9082\n",
      "Epoch 16/100\n",
      "120/120 [==============================] - 1s 7ms/step - loss: 0.3277 - accuracy: 0.8983 - val_loss: 0.3085 - val_accuracy: 0.9082\n",
      "Epoch 17/100\n",
      "120/120 [==============================] - 1s 7ms/step - loss: 0.3273 - accuracy: 0.8983 - val_loss: 0.3086 - val_accuracy: 0.9082\n",
      "Epoch 18/100\n",
      "120/120 [==============================] - 1s 8ms/step - loss: 0.3274 - accuracy: 0.8983 - val_loss: 0.3090 - val_accuracy: 0.9082\n",
      "Epoch 19/100\n",
      "120/120 [==============================] - 1s 7ms/step - loss: 0.3275 - accuracy: 0.8983 - val_loss: 0.3074 - val_accuracy: 0.9082\n"
     ]
    }
   ],
   "source": [
    "model = Sequential([\n",
    "    Dense(32, activation='relu', input_shape=(X_train.shape[1],)),\n",
    "    Dense(32, activation='relu'),\n",
    "    Dense(1, activation='sigmoid')\n",
    "])\n",
    "\n",
    "early_stopping = EarlyStopping(monitor='val_loss', patience=10, restore_best_weights=True)\n",
    "learning_rate = 0.001\n",
    "optimizer = tf.keras.optimizers.Adam(learning_rate=learning_rate)\n",
    "\n",
    "# Compile the model\n",
    "# Compile the model\n",
    "model.compile(\n",
    "    optimizer=optimizer,\n",
    "    loss='binary_crossentropy',  # Binary crossentropy loss for binary classification\n",
    "    metrics=['accuracy'])\n",
    "\n",
    "# Train the model\n",
    "history = model.fit(\n",
    "    X_train, y_train,\n",
    "    validation_split=0.2,\n",
    "    epochs=100,  # Large number of epochs to allow early stopping to kick in\n",
    "    batch_size=128,\n",
    "    callbacks=[early_stopping]\n",
    ")"
   ]
  },
  {
   "cell_type": "markdown",
   "id": "0b96a67b",
   "metadata": {},
   "source": [
    "## Test"
   ]
  },
  {
   "cell_type": "code",
   "execution_count": 138,
   "id": "97b9fbfa",
   "metadata": {},
   "outputs": [
    {
     "name": "stdout",
     "output_type": "stream",
     "text": [
      "150/150 [==============================] - 1s 6ms/step - loss: 0.3288 - accuracy: 0.8990\n",
      "Test MAE: 0.8989539742469788\n",
      "150/150 [==============================] - 1s 3ms/step\n"
     ]
    }
   ],
   "source": [
    "# Evaluate the model on the test set\n",
    "test_loss, test_mae = model.evaluate(X_test, y_test)\n",
    "print(f\"Test MAE: {test_mae}\")\n",
    "\n",
    "# Make predictions\n",
    "predictions = model.predict(X_test)"
   ]
  },
  {
   "cell_type": "code",
   "execution_count": 139,
   "id": "3b0c81e9",
   "metadata": {},
   "outputs": [
    {
     "data": {
      "image/png": "[encoded data removed]",
      "text/plain": [
       "<Figure size 640x480 with 1 Axes>"
      ]
     },
     "metadata": {},
     "output_type": "display_data"
    }
   ],
   "source": [
    "df_comparision = pd.DataFrame(y_test, columns=['actual'])\n",
    "\n",
    "df_comparision.loc[:, 'prediction_logit'] = predictions\n",
    "\n",
    "g = sns.scatterplot(df_comparision, x='actual', y='prediction_logit')\n",
    "\n",
    "plt.show()"
   ]
  },
  {
   "cell_type": "code",
   "execution_count": 140,
   "id": "b7aaf5d7",
   "metadata": {},
   "outputs": [
    {
     "data": {
      "image/png": "[encoded data removed]",
      "text/plain": [
       "<Figure size 800x600 with 1 Axes>"
      ]
     },
     "metadata": {},
     "output_type": "display_data"
    }
   ],
   "source": [
    "# Calculate the confusion matrix\n",
    "\n",
    "predictions_binary = (predictions > 0.075).astype(int)\n",
    "cm = confusion_matrix(y_test, predictions_binary)\n",
    "\n",
    "# Plot the confusion matrix\n",
    "plt.figure(figsize=(8, 6))\n",
    "sns.heatmap(cm, annot=True, fmt='d', cmap='Blues', cbar=False,\n",
    "            annot_kws={'fontsize': 14}, \n",
    "            xticklabels=['Not Claimed', 'Claimed'], \n",
    "            yticklabels=['Not Claimed', 'Claimed'])\n",
    "plt.xlabel('Predicted labels', fontsize=14)\n",
    "plt.ylabel('True labels', fontsize=14)\n",
    "plt.title('Confusion Matrix', fontsize=16)\n",
    "plt.show()"
   ]
  },
  {
   "cell_type": "markdown",
   "id": "05f69706",
   "metadata": {},
   "source": [
    "# Discussion"
   ]
  },
  {
   "cell_type": "markdown",
   "id": "da67141f",
   "metadata": {},
   "source": [
    "* Dataset is imbalance. It should be balanced.\n",
    "* Where claim likelihood > 0.075, output should be considered as 'Claimed'\n",
    "* Currently, it creates a lot of false positive. Model should be improved.\n",
    "* Alternative machine learning models such as random forest, bootstrap aggregation techniques should be tried."
   ]
  }
 ],
 "metadata": {
  "kernelspec": {
   "display_name": "Python 3 (ipykernel)",
   "language": "python",
   "name": "python3"
  },
  "language_info": {
   "codemirror_mode": {
    "name": "ipython",
    "version": 3
   },
   "file_extension": ".py",
   "mimetype": "text/x-python",
   "name": "python",
   "nbconvert_exporter": "python",
   "pygments_lexer": "ipython3",
   "version": "3.8.10"
  }
 },
 "nbformat": 4,
 "nbformat_minor": 5
}
