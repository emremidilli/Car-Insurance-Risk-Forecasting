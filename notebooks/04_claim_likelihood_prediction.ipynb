{
 "cells": [
  {
   "cell_type": "markdown",
   "id": "c2cea856-5c7c-4d2a-a863-17019398ad90",
   "metadata": {},
   "source": [
    "# Motivation"
   ]
  },
  {
   "cell_type": "markdown",
   "id": "e5ad4563-c1c2-4e56-a110-ebf914c89102",
   "metadata": {},
   "source": [
    "Purpose of this project is to predict the likelihood of making claim. Tensorflow is used to build a machine learning model."
   ]
  },
  {
   "cell_type": "markdown",
   "id": "32656eec-192c-432b-b82a-d7e6dea44bcc",
   "metadata": {
    "jp-MarkdownHeadingCollapsed": true
   },
   "source": [
    "# Libraries"
   ]
  },
  {
   "cell_type": "code",
   "execution_count": 33,
   "id": "72759208-7258-45d3-8fa1-56b2ff0de6e8",
   "metadata": {},
   "outputs": [],
   "source": [
    "from matplotlib import pyplot as plt\n",
    "\n",
    "import numpy as np\n",
    "\n",
    "import os\n",
    "\n",
    "import pandas as pd\n",
    "\n",
    "import seaborn as sns\n",
    "\n",
    "from sklearn.model_selection import train_test_split\n",
    "from sklearn.preprocessing import MinMaxScaler\n",
    "\n",
    "import tensorflow as tf\n",
    "from tensorflow.keras.models import Sequential\n",
    "from tensorflow.keras.layers import Dense\n",
    "from tensorflow.keras.callbacks import EarlyStopping\n",
    "\n",
    "# Add the ../src directory to the Python path\n",
    "import sys\n",
    "sys.path.append(os.path.abspath(os.path.join('..')))\n",
    "\n",
    "from src import (\n",
    "    adjust_column_names)"
   ]
  },
  {
   "cell_type": "markdown",
   "id": "5b312a1d-943f-4902-8a54-5b0c8b556c97",
   "metadata": {
    "jp-MarkdownHeadingCollapsed": true
   },
   "source": [
    "# Import Data"
   ]
  },
  {
   "cell_type": "code",
   "execution_count": 2,
   "id": "63399018-7296-4b82-b5f4-7feefee458b9",
   "metadata": {},
   "outputs": [],
   "source": [
    "source_data = pd.read_csv(\n",
    "    os.path.join('..', 'data', 'insurance_data_sample.csv'),\n",
    "    sep=',',\n",
    "    encoding='utf-8',\n",
    "    parse_dates=['Date'],\n",
    "    dtype={'Phone': str})"
   ]
  },
  {
   "cell_type": "markdown",
   "id": "32732cc3-609f-40b4-8d58-7b8f02d3d3e6",
   "metadata": {},
   "source": [
    "# Preprocess"
   ]
  },
  {
   "cell_type": "code",
   "execution_count": 59,
   "id": "ad782924-b714-4d56-b9c7-0ca323df8cef",
   "metadata": {},
   "outputs": [],
   "source": [
    "prep_data = source_data.copy()\n",
    "prep_data = adjust_column_names(prep_data)"
   ]
  },
  {
   "cell_type": "markdown",
   "id": "797ddece-9a19-48ac-81f9-b20e76daad10",
   "metadata": {
    "jp-MarkdownHeadingCollapsed": true
   },
   "source": [
    "## Select relevant features"
   ]
  },
  {
   "cell_type": "code",
   "execution_count": 60,
   "id": "e9d195eb-e8ed-4098-a38b-5f82fe444a4a",
   "metadata": {},
   "outputs": [],
   "source": [
    "FEATURES = ['gender', 'annual_income', 'price_usd', 'body_style', 'amount_paid_for_insurance', 'claim_amount', 'city']\n",
    "\n",
    "prep_data = prep_data.loc[:, FEATURES]"
   ]
  },
  {
   "cell_type": "markdown",
   "id": "445dbb99-95ae-4f93-bb40-0ccd2c14f95b",
   "metadata": {
    "jp-MarkdownHeadingCollapsed": true
   },
   "source": [
    "## Remove outliers"
   ]
  },
  {
   "cell_type": "code",
   "execution_count": 61,
   "id": "98935b9e-20f4-4dc6-a2a0-3895e897dd2d",
   "metadata": {},
   "outputs": [],
   "source": [
    "prep_data.query('price_usd >= 8000', inplace=True)"
   ]
  },
  {
   "cell_type": "markdown",
   "id": "ce49ef1b-1548-437f-9c74-99a45c9f6f00",
   "metadata": {},
   "source": [
    "## Convert categorical variables"
   ]
  },
  {
   "cell_type": "code",
   "execution_count": 62,
   "id": "432ef24e-7a79-48c6-a300-4013ad02040a",
   "metadata": {},
   "outputs": [],
   "source": [
    "prep_data = pd.get_dummies(prep_data, columns=['gender', 'city', 'body_style']).astype(int)"
   ]
  },
  {
   "cell_type": "markdown",
   "id": "e4dc9f92-270b-4b70-9b94-43b2f9121d5a",
   "metadata": {},
   "source": [
    "# Analyze"
   ]
  },
  {
   "cell_type": "code",
   "execution_count": 67,
   "id": "69bddf31",
   "metadata": {},
   "outputs": [],
   "source": [
    "prep_data.loc[:, 'is_claim'] = (prep_data.loc[:, 'claim_amount'] > 0).astype(int)\n",
    "prep_data.drop(['claim_amount'], axis=1, inplace=True)"
   ]
  },
  {
   "cell_type": "markdown",
   "id": "e9cbc471-2ea8-48f3-a6a7-2d7c332db1ea",
   "metadata": {},
   "source": [
    "## Set input and output features"
   ]
  },
  {
   "cell_type": "code",
   "execution_count": 68,
   "id": "b947ac6f-6f03-4f4f-bfea-62a9bdca8944",
   "metadata": {},
   "outputs": [],
   "source": [
    "df_X = prep_data.drop(['is_claim'], axis=1).copy()\n",
    "df_y = prep_data.loc[:, ['is_claim']].copy()"
   ]
  },
  {
   "cell_type": "markdown",
   "id": "8f038952-6f8c-43a8-9ff6-53cc4520c19b",
   "metadata": {},
   "source": [
    "## Normalize"
   ]
  },
  {
   "cell_type": "code",
   "execution_count": 69,
   "id": "4e32b552-ab07-42cd-aa04-0fc927737202",
   "metadata": {},
   "outputs": [],
   "source": [
    "scaler_X = MinMaxScaler()\n",
    "X = scaler_X.fit_transform(df_X)\n",
    "\n",
    "y = df_y.to_numpy()"
   ]
  },
  {
   "cell_type": "markdown",
   "id": "b0f6405c-e965-4ba3-9aeb-3890a74aeb66",
   "metadata": {},
   "source": [
    "## Train test split"
   ]
  },
  {
   "cell_type": "code",
   "execution_count": 72,
   "id": "2b9bc802-112f-471c-9760-ce0b5ae067e8",
   "metadata": {},
   "outputs": [],
   "source": [
    "# Assuming X is your feature matrix and y is your target variable\n",
    "X_train, X_test, y_train, y_test = train_test_split(X, y, test_size=0.2, random_state=42)"
   ]
  },
  {
   "cell_type": "markdown",
   "id": "4b56d00a-03b0-4542-be6f-c5c085ddb272",
   "metadata": {},
   "source": [
    "## Train"
   ]
  },
  {
   "cell_type": "code",
   "execution_count": 75,
   "id": "dd7331d2-96e8-4e70-8edc-bfdf76155dad",
   "metadata": {},
   "outputs": [
    {
     "name": "stdout",
     "output_type": "stream",
     "text": [
      "Epoch 1/100\n",
      "120/120 [==============================] - 2s 8ms/step - loss: 0.3655 - accuracy: 0.8896 - val_loss: 0.3078 - val_accuracy: 0.9082\n",
      "Epoch 2/100\n",
      "120/120 [==============================] - 1s 9ms/step - loss: 0.3293 - accuracy: 0.8983 - val_loss: 0.3074 - val_accuracy: 0.9082\n",
      "Epoch 3/100\n",
      "120/120 [==============================] - 1s 8ms/step - loss: 0.3291 - accuracy: 0.8983 - val_loss: 0.3087 - val_accuracy: 0.9082\n",
      "Epoch 4/100\n",
      "120/120 [==============================] - 1s 8ms/step - loss: 0.3287 - accuracy: 0.8983 - val_loss: 0.3072 - val_accuracy: 0.9082\n",
      "Epoch 5/100\n",
      "120/120 [==============================] - 1s 8ms/step - loss: 0.3285 - accuracy: 0.8983 - val_loss: 0.3077 - val_accuracy: 0.9082\n",
      "Epoch 6/100\n",
      "120/120 [==============================] - 1s 7ms/step - loss: 0.3288 - accuracy: 0.8983 - val_loss: 0.3100 - val_accuracy: 0.9082\n",
      "Epoch 7/100\n",
      "120/120 [==============================] - 1s 8ms/step - loss: 0.3286 - accuracy: 0.8983 - val_loss: 0.3076 - val_accuracy: 0.9082\n",
      "Epoch 8/100\n",
      "120/120 [==============================] - 1s 9ms/step - loss: 0.3281 - accuracy: 0.8983 - val_loss: 0.3074 - val_accuracy: 0.9082\n",
      "Epoch 9/100\n",
      "120/120 [==============================] - 1s 9ms/step - loss: 0.3281 - accuracy: 0.8983 - val_loss: 0.3080 - val_accuracy: 0.9082\n",
      "Epoch 10/100\n",
      "120/120 [==============================] - 1s 9ms/step - loss: 0.3282 - accuracy: 0.8983 - val_loss: 0.3077 - val_accuracy: 0.9082\n",
      "Epoch 11/100\n",
      "120/120 [==============================] - 1s 8ms/step - loss: 0.3280 - accuracy: 0.8983 - val_loss: 0.3083 - val_accuracy: 0.9082\n",
      "Epoch 12/100\n",
      "120/120 [==============================] - 1s 8ms/step - loss: 0.3279 - accuracy: 0.8983 - val_loss: 0.3082 - val_accuracy: 0.9082\n",
      "Epoch 13/100\n",
      "120/120 [==============================] - 1s 8ms/step - loss: 0.3279 - accuracy: 0.8983 - val_loss: 0.3084 - val_accuracy: 0.9082\n",
      "Epoch 14/100\n",
      "120/120 [==============================] - 1s 8ms/step - loss: 0.3278 - accuracy: 0.8983 - val_loss: 0.3084 - val_accuracy: 0.9082\n"
     ]
    }
   ],
   "source": [
    "model = Sequential([\n",
    "    Dense(64, activation='relu', input_shape=(X_train.shape[1],)),\n",
    "    Dense(64, activation='relu'),\n",
    "    Dense(1,  activation='sigmoid')\n",
    "])\n",
    "\n",
    "early_stopping = EarlyStopping(monitor='val_loss', patience=10, restore_best_weights=True)\n",
    "\n",
    "# Compile the model\n",
    "# Compile the model\n",
    "model.compile(\n",
    "    optimizer='adam',\n",
    "    loss='binary_crossentropy',  # Binary crossentropy loss for binary classification\n",
    "    metrics=['accuracy'])\n",
    "# Train the model\n",
    "history = model.fit(\n",
    "    X_train, y_train,\n",
    "    validation_split=0.2,\n",
    "    epochs=100,  # Large number of epochs to allow early stopping to kick in\n",
    "    batch_size=128,\n",
    "    callbacks=[early_stopping]\n",
    ")"
   ]
  },
  {
   "cell_type": "markdown",
   "id": "52c02fd4",
   "metadata": {},
   "source": [
    "## Test"
   ]
  },
  {
   "cell_type": "code",
   "execution_count": 76,
   "id": "6712f3d3",
   "metadata": {},
   "outputs": [
    {
     "name": "stdout",
     "output_type": "stream",
     "text": [
      "150/150 [==============================] - 1s 4ms/step - loss: 0.3280 - accuracy: 0.8990\n",
      "Test MAE: 0.8989539742469788\n",
      "150/150 [==============================] - 0s 3ms/step\n"
     ]
    }
   ],
   "source": [
    "# Evaluate the model on the test set\n",
    "test_loss, test_mae = model.evaluate(X_test, y_test)\n",
    "print(f\"Test MAE: {test_mae}\")\n",
    "\n",
    "# Make predictions\n",
    "predictions = model.predict(X_test)"
   ]
  },
  {
   "cell_type": "code",
   "execution_count": 58,
   "id": "12fe43fe",
   "metadata": {},
   "outputs": [
    {
     "data": {
      "image/png": "[encoded data removed]",
      "text/plain": [
       "<Figure size 640x480 with 1 Axes>"
      ]
     },
     "metadata": {},
     "output_type": "display_data"
    }
   ],
   "source": [
    "df_comparision = pd.DataFrame(actual_original, columns=['actual_original'])\n",
    "\n",
    "df_comparision.loc[:, 'prediction_original'] = predictions_original\n",
    "\n",
    "corr = df_comparision\\\n",
    "    .corr()\\\n",
    "    .iloc[0, 1]\\\n",
    "    .round(2)\n",
    "\n",
    "g = sns.scatterplot(df_comparision, x='actual_original', y='prediction_original')\n",
    "\n",
    "g.set_title(f'correlation coefficient {corr}')\n",
    "\n",
    "plt.show()"
   ]
  },
  {
   "cell_type": "markdown",
   "id": "50a28b06",
   "metadata": {},
   "source": [
    "# Discussion"
   ]
  },
  {
   "cell_type": "markdown",
   "id": "44928276",
   "metadata": {},
   "source": [
    "* Zero-labels should be handled.\n",
    "    * A prior-classification algorithm can be employeed.\n",
    "* Precision scale is smaller than actual scale. This could be due to zero-label data points."
   ]
  }
 ],
 "metadata": {
  "kernelspec": {
   "display_name": "Python 3 (ipykernel)",
   "language": "python",
   "name": "python3"
  },
  "language_info": {
   "codemirror_mode": {
    "name": "ipython",
    "version": 3
   },
   "file_extension": ".py",
   "mimetype": "text/x-python",
   "name": "python",
   "nbconvert_exporter": "python",
   "pygments_lexer": "ipython3",
   "version": "3.8.10"
  }
 },
 "nbformat": 4,
 "nbformat_minor": 5
}
